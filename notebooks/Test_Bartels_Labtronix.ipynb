{
 "cells": [
  {
   "cell_type": "code",
   "execution_count": 1,
   "id": "611ed63e-b572-47bb-9603-c2a4d7cd0926",
   "metadata": {},
   "outputs": [],
   "source": [
    "%load_ext autoreload\n",
    "%autoreload 2"
   ]
  },
  {
   "cell_type": "code",
   "execution_count": 2,
   "id": "c026275e-d91f-429b-8d67-2e4459ab4441",
   "metadata": {},
   "outputs": [],
   "source": [
    "from pybartelslabtronix import BartelsLabtronix, SignalForm"
   ]
  },
  {
   "cell_type": "code",
   "execution_count": 3,
   "id": "b0d08668-6226-4f17-bf3d-d22a1fd3fd4f",
   "metadata": {},
   "outputs": [
    {
     "name": "stdout",
     "output_type": "stream",
     "text": [
      "2024-02-22 11:57:34,313 [INFO] Bartels Labtronix control initialized.\n"
     ]
    }
   ],
   "source": [
    "blt = BartelsLabtronix()"
   ]
  },
  {
   "cell_type": "code",
   "execution_count": 4,
   "id": "4f66f8aa-b63d-46f5-9745-2508c10b6ea7",
   "metadata": {},
   "outputs": [
    {
     "name": "stdout",
     "output_type": "stream",
     "text": [
      "Wavetype: SRS \n",
      "Frequency: 200 Hz \n",
      "Amplitude: 150 Vpp \n",
      "Signal: off\n"
     ]
    }
   ],
   "source": [
    "print(blt.get_state())"
   ]
  },
  {
   "cell_type": "code",
   "execution_count": 5,
   "id": "a0442374-dd8b-4366-a6f3-4f7c8064a9eb",
   "metadata": {},
   "outputs": [],
   "source": [
    "blt.turnon()"
   ]
  },
  {
   "cell_type": "code",
   "execution_count": 6,
   "id": "43a3e3f9-b8ca-4643-baa1-cdafc52471ad",
   "metadata": {},
   "outputs": [
    {
     "name": "stdout",
     "output_type": "stream",
     "text": [
      "Wavetype: SRS \n",
      "Frequency: 200 Hz \n",
      "Amplitude: 150 Vpp \n",
      "Signal: on\n"
     ]
    }
   ],
   "source": [
    "print(blt.get_state())"
   ]
  },
  {
   "cell_type": "code",
   "execution_count": 7,
   "id": "aceb9bf3-9878-4a2c-bcb4-196b28f28391",
   "metadata": {},
   "outputs": [],
   "source": [
    "blt.turnoff()"
   ]
  },
  {
   "cell_type": "code",
   "execution_count": 8,
   "id": "200d6e53-54f2-4c4a-9a61-5256d37e5552",
   "metadata": {},
   "outputs": [
    {
     "name": "stdout",
     "output_type": "stream",
     "text": [
      "Wavetype: SRS \n",
      "Frequency: 200 Hz \n",
      "Amplitude: 150 Vpp \n",
      "Signal: off\n"
     ]
    }
   ],
   "source": [
    "print(blt.get_state())"
   ]
  },
  {
   "cell_type": "code",
   "execution_count": 9,
   "id": "68e9d3c8-8782-4154-89a9-63b5e235d98f",
   "metadata": {},
   "outputs": [
    {
     "name": "stdout",
     "output_type": "stream",
     "text": [
      "Wavetype: Sine \n",
      "Frequency: 100 Hz \n",
      "Amplitude: 100 Vpp \n",
      "Signal: off\n"
     ]
    }
   ],
   "source": [
    "blt.setfrequency(100)\n",
    "blt.setamplitude(100)\n",
    "blt.setsignalform(SignalForm.Sine)\n",
    "print(blt.get_state())"
   ]
  }
 ],
 "metadata": {
  "kernelspec": {
   "display_name": "Python 3 (ipykernel)",
   "language": "python",
   "name": "python3"
  },
  "language_info": {
   "codemirror_mode": {
    "name": "ipython",
    "version": 3
   },
   "file_extension": ".py",
   "mimetype": "text/x-python",
   "name": "python",
   "nbconvert_exporter": "python",
   "pygments_lexer": "ipython3",
   "version": "3.11.7"
  }
 },
 "nbformat": 4,
 "nbformat_minor": 5
}
